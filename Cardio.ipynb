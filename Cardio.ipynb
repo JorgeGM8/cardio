{
 "cells": [
  {
   "cell_type": "markdown",
   "metadata": {},
   "source": [
    "# Cardio\n",
    "\n",
    "Jorge Galeano Maté\n",
    "\n",
    "## Descripción\n",
    "\n",
    "La OMS estima que cada año se producen 12 millones de muertes en todo el mundo debido\n",
    "a enfermedades cardíacas, producidas en su gran mayoría por enfermedades\n",
    "cardiovasculares. El pronóstico temprano de las enfermedades cardiovasculares puede\n",
    "ayudar en la toma de decisiones sobre cambios en el estilo de vida en pacientes de alto\n",
    "riesgo y reducir las complicaciones.\n",
    "La base de datos cardio.csv contiene mediciones realizadas a pacientes hace 10 años, entre\n",
    "los cuales se encuentran\n",
    "- sex: M - F\n",
    "- age: edad\n",
    "- education: codificada, considerando que un valor más alto corresponde a un mayor\n",
    "nivel educativo.\n",
    "- currentSmoker: si el paciente es o no fumador actual\n",
    "- cigsPerDay: el número de cigarrillos que la persona fumaba en promedio en un día.\n",
    "- BPMeds: si el paciente estaba tomando medicamentos para la presión arterial (0: No,\n",
    "1: Sí)\n",
    "- prevalenStroke: si el paciente había tenido un accidente cerebrovascular previamente\n",
    "(0: No, 1: Sí)\n",
    "- prevalentHyp:: si el paciente era hipertenso o no (0: No, 1: Sí)\n",
    "- diabetes: si el paciente tenía diabetes o no (0: No, 1: Sí)\n",
    "- totChol: nivel de colesterol total\n",
    "- sysBP: presión arterial sistólica\n",
    "- diaBP_BMI: presión arterial diastólica\n",
    "- BMI: Índice de masa corporal\n",
    "- heartRate: : ritmo cardíaco\n",
    "- glucose: nivel de glucosa\n",
    "- TenYearCHD: se indica si el paciente sufrió o no una enfermedad coronaria en los\n",
    "últimos 10 años.(0: No, 1: Sí)\n",
    "\n",
    "## Tareas\n",
    "\n",
    "1. Carga los datos y explóralos. Elimina los datos nulos o incorrectos\n",
    "2. Escoge tres variables cuantitativas y realiza un análisis descriptivo de ellas,\n",
    "utilizando indicadores y gráficos. ¿Cuál presenta mayor dispersión?\n",
    "3. Elimina los datos atípicos del dataset. Para las siguientes preguntas, considera el\n",
    "dataset \"limpio\"\n",
    "4. ¿Qué variables cuantitativas presentan mayor correlación? Explica.\n",
    "5. Si de este dataset se escoge un paciente al azar, ¿cuál es la probabilidad de que sea\n",
    "hombre, si se sabe que pertenece al mayor cuartil de la variable correspondiente al\n",
    "índice de masa corporal?\n",
    "6. ¿Es razonable afirmar que, para una persona cualquiera (no necesariamente dentro\n",
    "del dataset), su ritmo cardiaco promedio es 75? Explica y justifica.\n",
    "7. Ser hombre, ¿influye en el promedio de cigarrillos consumidos por día, dentro de los\n",
    "pacientes fumadores? Explica.\n",
    "8. Construye un modelo de regresión lineal que permita relacionar 6 variables del\n",
    "dataset con el índice de masa corporal. (Debes incluir al menos dos variables\n",
    "cualitativas). Evalúa tu modelo y explica.\n",
    "9. Construye un modelo de regresión logística para predecir el riesgo de sufrir una\n",
    "enfermedad coronaria en los próximos diez años, a partir de las variables descritas.\n",
    "Verifica el balanceo de datos y evalúa tu modelo.\n",
    "10. Separa los modelos de regresión anteriores en dos distintos, respectivamente,\n",
    "considerando alguna variable categórica. Compara y concluye.\n",
    "\n",
    "----------"
   ]
  },
  {
   "cell_type": "markdown",
   "metadata": {},
   "source": [
    "1. Cargar datos y explorarlos. Eliminar nulos o incorrectos."
   ]
  },
  {
   "cell_type": "code",
   "execution_count": null,
   "metadata": {},
   "outputs": [],
   "source": [
    "import pandas as pd\n",
    "\n",
    "df = pd.read_csv(\"cardio.csv\", sep=\",\")\n",
    "\n",
    "df.head()"
   ]
  },
  {
   "cell_type": "code",
   "execution_count": null,
   "metadata": {},
   "outputs": [],
   "source": [
    "for columna in df.columns:\n",
    "    print(f\"{columna}: {df[columna].unique()}\")"
   ]
  },
  {
   "cell_type": "code",
   "execution_count": null,
   "metadata": {},
   "outputs": [],
   "source": [
    "df.info()"
   ]
  },
  {
   "cell_type": "code",
   "execution_count": null,
   "metadata": {},
   "outputs": [],
   "source": [
    "df[\"currentSmoker\"] = df[\"currentSmoker\"].replace(\"No\", False)\n",
    "df[\"currentSmoker\"] = df[\"currentSmoker\"].replace(\"Yes\", True)\n",
    "\n",
    "df[\"BPMeds\"] = df[\"BPMeds\"].replace(0, False)\n",
    "df[\"BPMeds\"] = df[\"BPMeds\"].replace(1, True)\n",
    "df[\"BPMeds\"] = df[\"BPMeds\"].fillna(False)\n",
    "\n",
    "df[\"prevalentHyp\"] = df[\"prevalentHyp\"].replace(0, False)\n",
    "df[\"prevalentHyp\"] = df[\"prevalentHyp\"].replace(1, True)\n",
    "\n",
    "df[\"prevalentStroke\"] = df[\"prevalentStroke\"].replace(0, False)\n",
    "df[\"prevalentStroke\"] = df[\"prevalentStroke\"].replace(1, True)\n",
    "\n",
    "df[\"diabetes\"] = df[\"diabetes\"].replace(0, False)\n",
    "df[\"diabetes\"] = df[\"diabetes\"].replace(1, True)\n",
    "\n",
    "df[\"TenYearCHD\"] = df[\"TenYearCHD\"].replace(0, False)\n",
    "df[\"TenYearCHD\"] = df[\"TenYearCHD\"].replace(1, True)\n",
    "\n",
    "df.info()"
   ]
  },
  {
   "cell_type": "code",
   "execution_count": null,
   "metadata": {},
   "outputs": [],
   "source": [
    "mediana_glucosa = df[\"glucose\"].median()\n",
    "\n",
    "df[\"glucose\"] = df[\"glucose\"].fillna(mediana_glucosa)\n",
    "\n",
    "df = df.dropna()"
   ]
  },
  {
   "cell_type": "code",
   "execution_count": null,
   "metadata": {},
   "outputs": [],
   "source": [
    "df.head()"
   ]
  },
  {
   "cell_type": "code",
   "execution_count": null,
   "metadata": {},
   "outputs": [],
   "source": [
    "import altair as alt\n",
    "import numpy as np\n",
    "\n",
    "df_long = df.select_dtypes(include=np.number).melt(var_name=\"Variable\", value_name=\"Valor\")\n",
    "\n",
    "alt.data_transformers.disable_max_rows()\n",
    "\n",
    "alt.Chart(df_long, height=30, width=400).mark_boxplot()\\\n",
    "    .encode(x=alt.X('Valor:Q', title=None), row='Variable:N')\\\n",
    "    .resolve_scale(x='independent')\\\n",
    "    .interactive(True)"
   ]
  },
  {
   "cell_type": "markdown",
   "metadata": {},
   "source": [
    "2. Escoger 3 variables cuantitativas y describirlas con indicadores y gráficos. ¿Cuál presenta mayor dispersión?"
   ]
  },
  {
   "cell_type": "code",
   "execution_count": null,
   "metadata": {},
   "outputs": [],
   "source": [
    "df_long = df[[\"BMI\", \"age\", \"glucose\"]].melt(var_name=\"Variable\", value_name=\"Valor\")\n",
    "\n",
    "alt.data_transformers.disable_max_rows()\n",
    "\n",
    "alt.Chart(df_long).mark_boxplot()\\\n",
    "    .encode(x=alt.X(\"Valor:Q\"), row=\"Variable:N\")\\\n",
    "    .resolve_scale(x=\"independent\")\\\n",
    "    .interactive(True)"
   ]
  },
  {
   "cell_type": "code",
   "execution_count": null,
   "metadata": {},
   "outputs": [],
   "source": [
    "print(f\"\"\"Dispersión según desviación estándar (std):\n",
    "    BMI = {np.std(df[\"BMI\"])}\n",
    "    Edad = {np.std(df[\"age\"])}\n",
    "    Glucosa = {np.std(df[\"glucose\"])}\n",
    "\"\"\")"
   ]
  },
  {
   "cell_type": "markdown",
   "metadata": {},
   "source": [
    "Aparentemente, en las gráficas se observa que la glucosa y el BMI presentan mucha dispersión, además de gran cantidad de datos atípicos.\n",
    "\n",
    "El BMI ronda desde los 15.54 hasta 56.8, siendo el valor medio 25.36.\n",
    "\n",
    "La edad no presenta datos atípicos y ronda desde 32 años hasta 70 años.\n",
    "\n",
    "Por último, la glucosa ronda entre 40 y 394.\n",
    "\n",
    "En base a los indicadores de dispersión, la glucosa presenta la mayor, seguida por la edad."
   ]
  },
  {
   "cell_type": "markdown",
   "metadata": {},
   "source": [
    "3. Eliminar datos atípicos."
   ]
  },
  {
   "cell_type": "code",
   "execution_count": null,
   "metadata": {},
   "outputs": [],
   "source": [
    "# ATENCION - Este bucle solo se debe ejecutar UNA VEZ. Más ejecuciones equivalen a borrado extra de datos.\n",
    "\n",
    "for columna in df.select_dtypes(include=np.number).columns:\n",
    "    IQR = df[columna].quantile(0.75) - df[columna].quantile(0.25)\n",
    "    outlier_sup = df[columna].quantile(0.75) + 1.5*IQR\n",
    "    outlier_inf = df[columna].quantile(0.25) - 1.5*IQR\n",
    "    for dato in df[columna]:\n",
    "        if dato > outlier_sup or dato < outlier_inf:\n",
    "            df = df.drop(df[df[columna] == dato].index)"
   ]
  },
  {
   "cell_type": "markdown",
   "metadata": {},
   "source": [
    "4. Variables cuantitativas con mayor correlación."
   ]
  },
  {
   "cell_type": "code",
   "execution_count": null,
   "metadata": {},
   "outputs": [],
   "source": [
    "df.select_dtypes(include=np.number).corr()"
   ]
  },
  {
   "cell_type": "markdown",
   "metadata": {},
   "source": [
    "Las variables con mayor correlación son la presión arterial sistólica y diastólica, con un 0.76. Esto es lógico debido a que ambas expresan la presión arterial.\n",
    "\n",
    "En segundo lugar, se encuentra la presión arterial sistólica y la edad, posiblemente relacionadas porque con la edad aumenta la presión arterial. Además, también hay relación entre el BMI y la presión arterial sistólica y diastólica, debido a que un mayor BMI puede indicar mayor masa grasa, lo que puede aumentar la presión arterial."
   ]
  },
  {
   "cell_type": "markdown",
   "metadata": {},
   "source": [
    "5. Si de este dataset se escoge un paciente al azar, ¿cuál es la probabilidad de que sea\n",
    "hombre, si se sabe que pertenece al mayor cuartil de la variable correspondiente al\n",
    "BMI?"
   ]
  },
  {
   "cell_type": "code",
   "execution_count": null,
   "metadata": {},
   "outputs": [],
   "source": [
    "prob = len(df[(df[\"BMI\"] >= df[\"BMI\"].quantile(0.75)) & (df[\"sex\"] == \"M\")]) / len(df) * 100\n",
    "\n",
    "print(f\"Probabilidad = {round(prob, 2)}%\")"
   ]
  },
  {
   "cell_type": "markdown",
   "metadata": {},
   "source": [
    "6. ¿Es razonable afirmar que, para una persona cualquiera (no necesariamente dentro del dataset), su ritmo cardiaco promedio es 75? Explica y justifica."
   ]
  },
  {
   "cell_type": "markdown",
   "metadata": {},
   "source": [
    "No, no es razonable afirmar que el ritmo cardíaco promedio es 75, ya que el ritmo cardíaco puede variar dependiendo de la persona, la edad, el estado físico, entre otros factores."
   ]
  },
  {
   "cell_type": "markdown",
   "metadata": {},
   "source": [
    "7. Ser hombre, ¿influye en el promedio de cigarrillos consumidos por día, dentro de los pacientes fumadores? Explica."
   ]
  },
  {
   "cell_type": "code",
   "execution_count": null,
   "metadata": {},
   "outputs": [],
   "source": [
    "alt.Chart(df[df[\"currentSmoker\"] == True]).mark_bar()\\\n",
    "    .encode(x=\"cigsPerDay:Q\", y=\"sex:N\")\\\n",
    "    .resolve_scale(x=\"independent\")"
   ]
  },
  {
   "cell_type": "markdown",
   "metadata": {},
   "source": [
    "Como se observa en el gráfico, los hombres fuman significativamente más cigarrillos que las mujeres, por lo que se puede afirmar que ser hombre influye en el promedio de cigarrillos consumidos por día."
   ]
  },
  {
   "cell_type": "markdown",
   "metadata": {},
   "source": [
    "8. Construir un modelo de regresión lineal que permita relacionar 6 variables del dataset con el índice de masa corporal. Evaluar el modelo y explicar."
   ]
  },
  {
   "cell_type": "code",
   "execution_count": null,
   "metadata": {},
   "outputs": [],
   "source": [
    "from sklearn.linear_model import LinearRegression\n",
    "from sklearn.metrics import mean_absolute_error, mean_squared_error, root_mean_squared_error, mean_absolute_percentage_error, r2_score\n",
    "\n",
    "x = df[[\"age\", \"education\", \"cigsPerDay\", \"totChol\", \"heartRate\", \"glucose\"]]\n",
    "y = df[[\"BMI\"]]\n",
    "\n",
    "model = LinearRegression()\n",
    "\n",
    "model.fit(x, y)\n",
    "\n",
    "y_pred = model.predict(x)\n",
    "\n",
    "print(f\"\"\"\n",
    "ERRORES:\n",
    "    MAE = {mean_absolute_error(y, y_pred)}\n",
    "    MSE = {mean_squared_error(y, y_pred)}\n",
    "    RMSE = {root_mean_squared_error(y, y_pred)}\n",
    "    MAPE = {mean_absolute_percentage_error(y, y_pred)}\n",
    "    R2 = {r2_score(y, y_pred)}\n",
    "\"\"\")"
   ]
  },
  {
   "cell_type": "markdown",
   "metadata": {},
   "source": [
    "El modelo presenta un MAPE de 0.11, que indica un 11% de error en la predicción.\n",
    "\n",
    "El coeficiente de determinación es de 0.048, que indica que puede explicar solamente un 4.8% de la variabilidad de la variable dependiente, por lo que no es un buen modelo."
   ]
  },
  {
   "cell_type": "markdown",
   "metadata": {},
   "source": [
    "9. Construir un modelo de regresión logística para predecir el riesgo de sufrir una enfermedad coronaria en los próximos diez años, a partir de las variables descritas. Verificar el balanceo de datos y evaluar el modelo."
   ]
  },
  {
   "cell_type": "code",
   "execution_count": null,
   "metadata": {},
   "outputs": [],
   "source": [
    "from sklearn.linear_model import LogisticRegression\n",
    "from sklearn.model_selection import train_test_split\n",
    "from sklearn.preprocessing import StandardScaler\n",
    "from sklearn.metrics import accuracy_score, confusion_matrix, classification_report, roc_auc_score\n",
    "\n",
    "df_copy = df.copy()\n",
    "\n",
    "df_copy[df_copy.select_dtypes(include=np.bool).columns] = df_copy[df_copy.select_dtypes(include=np.bool).columns].astype(int)\n",
    "\n",
    "x = df_copy[[\"age\", \"education\", \"currentSmoker\", \"cigsPerDay\", \"BPMeds\",\n",
    "             \"prevalentStroke\", \"prevalentHyp\", \"diabetes\", \"totChol\",\n",
    "             \"sysBP\", \"diaBP\", \"BMI\", \"heartRate\", \"glucose\"]]\n",
    "\n",
    "y = df_copy[\"TenYearCHD\"]\n",
    "\n",
    "x_train, x_test, y_train, y_test = train_test_split(x, y, test_size=0.2, random_state=42)\n",
    "\n",
    "scaler = StandardScaler()\n",
    "\n",
    "booleanos = [\"currentSmoker\", \"BPMeds\", \"prevalentStroke\", \"prevalentHyp\", \"diabetes\"]\n",
    "no_booleanos = [\"age\", \"education\", \"cigsPerDay\", \"totChol\", \"sysBP\", \"diaBP\", \"BMI\", \"heartRate\", \"glucose\"]\n",
    "\n",
    "x_train[no_booleanos] = scaler.fit_transform(x_train[no_booleanos])\n",
    "x_test[no_booleanos] = scaler.transform(x_test[no_booleanos])\n",
    "\n",
    "model = LogisticRegression(max_iter=10000)\n",
    "\n",
    "model.fit(x_train, y_train)\n",
    "\n",
    "y_pred = model.predict(x_test)\n",
    "\n",
    "y_prob = model.predict_proba(x_test)[:, 1]\n",
    "\n",
    "print(\"Accuracy:\", accuracy_score(y_test, y_pred))\n",
    "print(\"Matriz de confusión:\\n\", confusion_matrix(y_test, y_pred))\n",
    "print(\"Reporte de clasificación:\\n\", classification_report(y_test, y_pred))\n",
    "print(\"AUC-ROC:\", roc_auc_score(y_test, y_prob))"
   ]
  },
  {
   "cell_type": "markdown",
   "metadata": {},
   "source": [
    "A primera vista, el modelo presenta un 87% de exactitud, lo que puede indicar que es un buen modelo. Además, el AUC es de 0.73, lo cual le da una calificación aceptable.\n",
    "\n",
    "No obstante, hay un grave desbalanceo de datos. Encontramos 605 casos negativos y solo 87 casos positivos. Esto implica que el modelo tiende a predecir más casos negativos que positivos, lo que puede ser un problema en la predicción de enfermedades coronarias.\n",
    "\n",
    "Fijándonos en el F1-score de los casos positivos, encontramos un valor de 0,04, lo que indica que el modelo no es bueno para predecir casos positivos."
   ]
  },
  {
   "cell_type": "markdown",
   "metadata": {},
   "source": [
    "10. Separar los modelos de regresión anteriores en dos distintos, respectivamente, considerando alguna variable categórica. Comparar y concluir."
   ]
  },
  {
   "cell_type": "code",
   "execution_count": null,
   "metadata": {},
   "outputs": [],
   "source": [
    "df_hombres = df[df[\"sex\"] == \"M\"]\n",
    "df_mujeres = df[df[\"sex\"] == \"F\"]\n",
    "\n",
    "x = df_hombres[[\"age\", \"education\", \"cigsPerDay\", \"totChol\", \"heartRate\", \"glucose\"]]\n",
    "y = df_hombres[[\"BMI\"]]\n",
    "\n",
    "model = LinearRegression()\n",
    "\n",
    "model.fit(x, y)\n",
    "\n",
    "y_pred = model.predict(x)\n",
    "\n",
    "print(f\"\"\"\n",
    "ERRORES H:\n",
    "    MAE = {mean_absolute_error(y, y_pred)}\n",
    "    MSE = {mean_squared_error(y, y_pred)}\n",
    "    RMSE = {root_mean_squared_error(y, y_pred)}\n",
    "    MAPE = {mean_absolute_percentage_error(y, y_pred)}\n",
    "    R2 = {r2_score(y, y_pred)}\n",
    "\"\"\")\n",
    "\n",
    "x = df_mujeres[[\"age\", \"education\", \"cigsPerDay\", \"totChol\", \"heartRate\", \"glucose\"]]\n",
    "y = df_mujeres[[\"BMI\"]]\n",
    "\n",
    "model = LinearRegression()\n",
    "\n",
    "model.fit(x, y)\n",
    "\n",
    "y_pred = model.predict(x)\n",
    "\n",
    "print(f\"\"\"\n",
    "ERRORES M:\n",
    "    MAE = {mean_absolute_error(y, y_pred)}\n",
    "    MSE = {mean_squared_error(y, y_pred)}\n",
    "    RMSE = {root_mean_squared_error(y, y_pred)}\n",
    "    MAPE = {mean_absolute_percentage_error(y, y_pred)}\n",
    "    R2 = {r2_score(y, y_pred)}\n",
    "\"\"\")"
   ]
  },
  {
   "cell_type": "markdown",
   "metadata": {},
   "source": [
    "Realizando una separación por sexos, se observa que los errores varían. En el modelo que evalúa solo a los hombres, el MAPE es del 9,9%, mientras que en el modelo que evalúa solo a las mujeres, el MAPE es del 10,3%. En cambio, el coeficiente de determinación es de 3,9% para hombres y 11,4% para mujeres, lo que indica que el modelo de las mujeres explica una mayor variabilidad de los datos respecto al de los hombres y respecto al común."
   ]
  },
  {
   "cell_type": "code",
   "execution_count": null,
   "metadata": {},
   "outputs": [],
   "source": [
    "df_copy_hombres = df_hombres.copy()\n",
    "df_copy_mujeres = df_mujeres.copy()\n",
    "\n",
    "df_copy_hombres[df_copy_hombres.select_dtypes(include=np.bool).columns] = df_copy_hombres[df_copy_hombres.select_dtypes(include=np.bool).columns].astype(int)\n",
    "df_copy_mujeres[df_copy_mujeres.select_dtypes(include=np.bool).columns] = df_copy_mujeres[df_copy_mujeres.select_dtypes(include=np.bool).columns].astype(int)\n",
    "\n",
    "x = df_copy_hombres[[\"age\", \"education\", \"currentSmoker\", \"cigsPerDay\", \"BPMeds\",\n",
    "             \"prevalentStroke\", \"prevalentHyp\", \"diabetes\", \"totChol\",\n",
    "             \"sysBP\", \"diaBP\", \"BMI\", \"heartRate\", \"glucose\"]]\n",
    "\n",
    "y = df_copy_hombres[\"TenYearCHD\"]\n",
    "\n",
    "x_train, x_test, y_train, y_test = train_test_split(x, y, test_size=0.2, random_state=42)\n",
    "\n",
    "scaler = StandardScaler()\n",
    "\n",
    "booleanos = [\"currentSmoker\", \"BPMeds\", \"prevalentStroke\", \"prevalentHyp\", \"diabetes\"]\n",
    "no_booleanos = [\"age\", \"education\", \"cigsPerDay\", \"totChol\", \"sysBP\", \"diaBP\", \"BMI\", \"heartRate\", \"glucose\"]\n",
    "\n",
    "x_train[no_booleanos] = scaler.fit_transform(x_train[no_booleanos])\n",
    "x_test[no_booleanos] = scaler.transform(x_test[no_booleanos])\n",
    "\n",
    "model = LogisticRegression(max_iter=10000)\n",
    "\n",
    "model.fit(x_train, y_train)\n",
    "\n",
    "y_pred = model.predict(x_test)\n",
    "\n",
    "y_prob = model.predict_proba(x_test)[:, 1]\n",
    "\n",
    "print(\"EVALUACIÓN HOMBRES:\")\n",
    "print(\"Accuracy:\", accuracy_score(y_test, y_pred))\n",
    "print(\"Matriz de confusión:\\n\", confusion_matrix(y_test, y_pred))\n",
    "print(\"Reporte de clasificación:\\n\", classification_report(y_test, y_pred))\n",
    "print(\"AUC-ROC:\", roc_auc_score(y_test, y_prob))\n",
    "\n",
    "x = df_copy_mujeres[[\"age\", \"education\", \"currentSmoker\", \"cigsPerDay\", \"BPMeds\",\n",
    "             \"prevalentStroke\", \"prevalentHyp\", \"diabetes\", \"totChol\",\n",
    "             \"sysBP\", \"diaBP\", \"BMI\", \"heartRate\", \"glucose\"]]\n",
    "\n",
    "y = df_copy_mujeres[\"TenYearCHD\"]\n",
    "\n",
    "x_train, x_test, y_train, y_test = train_test_split(x, y, test_size=0.2, random_state=42)\n",
    "\n",
    "scaler = StandardScaler()\n",
    "\n",
    "booleanos = [\"currentSmoker\", \"BPMeds\", \"prevalentStroke\", \"prevalentHyp\", \"diabetes\"]\n",
    "no_booleanos = [\"age\", \"education\", \"cigsPerDay\", \"totChol\", \"sysBP\", \"diaBP\", \"BMI\", \"heartRate\", \"glucose\"]\n",
    "\n",
    "x_train[no_booleanos] = scaler.fit_transform(x_train[no_booleanos])\n",
    "x_test[no_booleanos] = scaler.transform(x_test[no_booleanos])\n",
    "\n",
    "model = LogisticRegression(max_iter=10000)\n",
    "\n",
    "model.fit(x_train, y_train)\n",
    "\n",
    "y_pred = model.predict(x_test)\n",
    "\n",
    "y_prob = model.predict_proba(x_test)[:, 1]\n",
    "\n",
    "print(\"EVALUACIÓN MUJERES:\")\n",
    "print(\"Accuracy:\", accuracy_score(y_test, y_pred))\n",
    "print(\"Matriz de confusión:\\n\", confusion_matrix(y_test, y_pred))\n",
    "print(\"Reporte de clasificación:\\n\", classification_report(y_test, y_pred))\n",
    "print(\"AUC-ROC:\", roc_auc_score(y_test, y_prob))"
   ]
  },
  {
   "cell_type": "markdown",
   "metadata": {},
   "source": [
    "En el modelo que evalúa a los hombres, se obtiene una exactitud del 83% y un AUC de 0,7; y en el de las mujeres, se obtiene una exactitud del 92% y un AUC de 0,7.\n",
    "\n",
    "En ambos casos, se observa un desbalanceo de datos, al igual que en el modelo común, con un mayor número de casos negativos que positivos, lo que afecta gravemente la predicción de enfermedades coronarias. En el mejor de los casos, encontramos un F1-score de 0,04 en el modelo de los hombres, lo cual nos indica que no es un modelo fiable."
   ]
  },
  {
   "cell_type": "markdown",
   "metadata": {},
   "source": [
    "### Conclusiones finales"
   ]
  },
  {
   "cell_type": "markdown",
   "metadata": {},
   "source": [
    "Hemos podido evaluar datos sobre variables cuantitativas y cualitativas de salud. En la parte descriptiva, hemos encontrado una ligera correlación entre la presión arterial sistólica y la edad; así como entre el BMI y la presión arterial sistólica y diastólica. Además, hemos encontrado que ser hombre influye en el promedio de cigarrillos consumidos por día.\n",
    "\n",
    "Por otra parte, en los modelos predictivos, no hemos encontrado un modelo que se adapte correctamente a los datos. En el modelo de regresión lineal, el coeficiente de determinación es muy bajo, lo que indica que no es un buen modelo. En el modelo de regresión logística, encontramos un desbalanceo de datos que afecta la predicción de enfermedades coronarias. En ambos casos, el F1-score es muy bajo, lo que indica que no son modelos fiables. Se requeriría de más datos o de un análisis más profundo para poder realizar una predicción más acertada."
   ]
  }
 ],
 "metadata": {
  "kernelspec": {
   "display_name": "cardio",
   "language": "python",
   "name": "python3"
  },
  "language_info": {
   "codemirror_mode": {
    "name": "ipython",
    "version": 3
   },
   "file_extension": ".py",
   "mimetype": "text/x-python",
   "name": "python",
   "nbconvert_exporter": "python",
   "pygments_lexer": "ipython3",
   "version": "3.12.9"
  }
 },
 "nbformat": 4,
 "nbformat_minor": 2
}
